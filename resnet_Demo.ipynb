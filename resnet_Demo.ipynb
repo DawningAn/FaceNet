{
 "cells": [
  {
   "cell_type": "code",
   "execution_count": 1,
   "metadata": {
    "collapsed": true
   },
   "outputs": [],
   "source": [
    "import torch.nn as nn\n",
    "import torch\n",
    "from torchsummary import summary"
   ]
  },
  {
   "cell_type": "code",
   "execution_count": 4,
   "outputs": [],
   "source": [
    "# 构建残差基本模块\n",
    "class ResBlock(nn.Module):\n",
    "    def __init__(self, downSample, in_channels, out_channels):  # downSample判断是否需要下采样\n",
    "        super().__init__()\n",
    "        if downSample:\n",
    "            # 需要下采样\n",
    "            self.conv1 = nn.Conv2d(in_channels, out_channels, 3, 2, 1)\n",
    "            #\n",
    "            self.shortcut = nn.Sequential(\n",
    "                nn.Conv2d(in_channels, out_channels, 1, 2, 0),\n",
    "                nn.BatchNorm2d(out_channels)\n",
    "            )\n",
    "\n",
    "        else:\n",
    "            # 不需要下采样\n",
    "            self.conv1 = nn.Conv2d(in_channels, out_channels, 3, 1, 1)\n",
    "            # 对输入不做处理\n",
    "            self.shortcut = nn.Sequential()\n",
    "\n",
    "        self.bn1 = nn.BatchNorm2d(out_channels)\n",
    "        self.relu1 = nn.ReLU()\n",
    "\n",
    "        self.conv2 = nn.Conv2d(out_channels, out_channels, 3, 1, 1)\n",
    "        self.bn2 = nn.BatchNorm2d(out_channels)\n",
    "        self.relu2 = nn.ReLU()\n",
    "\n",
    "        self.relu3 = nn.ReLU()\n",
    "\n",
    "    def forward(self, x):\n",
    "        # 对输入进行处理\n",
    "        shortcut = self.shortcut(x)\n",
    "\n",
    "        #conv1\n",
    "        x = self.conv1(x)\n",
    "        x = self.bn1(x)\n",
    "        x = self.relu1(x)\n",
    "\n",
    "        #conv2\n",
    "        x = self.conv2(x)\n",
    "        x = self.bn2(x)\n",
    "        x = self.relu2(x)\n",
    "\n",
    "        # 残差链接\n",
    "        x = x + shortcut\n",
    "        x = self.relu3(x)\n",
    "\n",
    "        return x\n",
    "\n",
    "\n",
    "\n"
   ],
   "metadata": {
    "collapsed": false
   }
  },
  {
   "cell_type": "code",
   "execution_count": 5,
   "outputs": [],
   "source": [
    "resblock = ResBlock(True,64,128).to('cuda:0')"
   ],
   "metadata": {
    "collapsed": false
   }
  },
  {
   "cell_type": "code",
   "execution_count": 6,
   "outputs": [
    {
     "name": "stdout",
     "output_type": "stream",
     "text": [
      "----------------------------------------------------------------\n",
      "        Layer (type)               Output Shape         Param #\n",
      "================================================================\n",
      "            Conv2d-1          [-1, 128, 28, 28]           8,320\n",
      "       BatchNorm2d-2          [-1, 128, 28, 28]             256\n",
      "            Conv2d-3          [-1, 128, 28, 28]          73,856\n",
      "       BatchNorm2d-4          [-1, 128, 28, 28]             256\n",
      "              ReLU-5          [-1, 128, 28, 28]               0\n",
      "            Conv2d-6          [-1, 128, 28, 28]         147,584\n",
      "       BatchNorm2d-7          [-1, 128, 28, 28]             256\n",
      "              ReLU-8          [-1, 128, 28, 28]               0\n",
      "              ReLU-9          [-1, 128, 28, 28]               0\n",
      "================================================================\n",
      "Total params: 230,528\n",
      "Trainable params: 230,528\n",
      "Non-trainable params: 0\n",
      "----------------------------------------------------------------\n",
      "Input size (MB): 0.77\n",
      "Forward/backward pass size (MB): 6.89\n",
      "Params size (MB): 0.88\n",
      "Estimated Total Size (MB): 8.54\n",
      "----------------------------------------------------------------\n"
     ]
    }
   ],
   "source": [
    "summary(resblock,(64,56,56))"
   ],
   "metadata": {
    "collapsed": false
   }
  },
  {
   "cell_type": "code",
   "execution_count": 12,
   "outputs": [],
   "source": [
    "class ResNet18(nn.Module):\n",
    "    def __init__(self,num_class):  # 类别数量\n",
    "        super().__init__()\n",
    "\n",
    "        #layer 0\n",
    "        self.layer_0 = nn.Sequential(\n",
    "            nn.Conv2d(in_channels=3, out_channels=64, kernel_size=7, stride=2, padding=3),\n",
    "            nn.BatchNorm2d(64),\n",
    "            nn.ReLU(),\n",
    "            nn.MaxPool2d(kernel_size=3, stride=2, padding=1)\n",
    "        )\n",
    "\n",
    "        # 通道大小列表\n",
    "        channel_list = [64,128,256,512]\n",
    "\n",
    "        #layer 1 都不用下采样\n",
    "        self.layer_1 = nn.Sequential(\n",
    "            # 两个残差块不需要下采样\n",
    "            ResBlock(False,channel_list[0],channel_list[0]),\n",
    "            ResBlock(False,channel_list[0],channel_list[0])\n",
    "        )\n",
    "\n",
    "        #layer 2\n",
    "        self.layer_2 = nn.Sequential(\n",
    "            # 第一个残差块需要下采样\n",
    "            ResBlock(True,channel_list[0],channel_list[1]),\n",
    "            ResBlock(False,channel_list[1],channel_list[1])\n",
    "        )\n",
    "\n",
    "        #layer 3\n",
    "        self.layer_3 = nn.Sequential(\n",
    "            # 第一个残差块需要下采样\n",
    "            ResBlock(True,channel_list[1],channel_list[2]),\n",
    "            ResBlock(False,channel_list[2],channel_list[2])\n",
    "        )\n",
    "\n",
    "        #layer 4\n",
    "        self.layer_4 = nn.Sequential(\n",
    "            # 第一个残差块需要下采样\n",
    "            ResBlock(True,channel_list[2],channel_list[3]),\n",
    "            ResBlock(False,channel_list[3],channel_list[3])\n",
    "        )\n",
    "\n",
    "        # layer 5\n",
    "        self.AdaptiveAvgPool5 = nn.AdaptiveAvgPool2d(1)  # output size = 1\n",
    "        self.flatten5 = nn.Flatten(start_dim=1)\n",
    "        self.fc5 = nn.Linear(channel_list[3],num_class)\n",
    "\n",
    "\n",
    "    def forward(self, x):\n",
    "        x = self.layer_0(x)\n",
    "        x = self.layer_1(x)\n",
    "        x = self.layer_2(x)\n",
    "        x = self.layer_3(x)\n",
    "        x = self.layer_4(x)\n",
    "        x = self.AdaptiveAvgPool5(x)\n",
    "        x = self.flatten5(x)\n",
    "        x = self.fc5(x)\n",
    "\n",
    "        return x"
   ],
   "metadata": {
    "collapsed": false
   }
  },
  {
   "cell_type": "code",
   "execution_count": 13,
   "outputs": [],
   "source": [
    "# 实例化网络\n",
    "resnet = ResNet18(10).to('cuda:0')  # num_class 分类个数"
   ],
   "metadata": {
    "collapsed": false
   }
  },
  {
   "cell_type": "code",
   "execution_count": 14,
   "outputs": [
    {
     "name": "stdout",
     "output_type": "stream",
     "text": [
      "----------------------------------------------------------------\n",
      "        Layer (type)               Output Shape         Param #\n",
      "================================================================\n",
      "            Conv2d-1         [-1, 64, 112, 112]           9,472\n",
      "       BatchNorm2d-2         [-1, 64, 112, 112]             128\n",
      "              ReLU-3         [-1, 64, 112, 112]               0\n",
      "         MaxPool2d-4           [-1, 64, 56, 56]               0\n",
      "            Conv2d-5           [-1, 64, 56, 56]          36,928\n",
      "       BatchNorm2d-6           [-1, 64, 56, 56]             128\n",
      "              ReLU-7           [-1, 64, 56, 56]               0\n",
      "            Conv2d-8           [-1, 64, 56, 56]          36,928\n",
      "       BatchNorm2d-9           [-1, 64, 56, 56]             128\n",
      "             ReLU-10           [-1, 64, 56, 56]               0\n",
      "             ReLU-11           [-1, 64, 56, 56]               0\n",
      "         ResBlock-12           [-1, 64, 56, 56]               0\n",
      "           Conv2d-13           [-1, 64, 56, 56]          36,928\n",
      "      BatchNorm2d-14           [-1, 64, 56, 56]             128\n",
      "             ReLU-15           [-1, 64, 56, 56]               0\n",
      "           Conv2d-16           [-1, 64, 56, 56]          36,928\n",
      "      BatchNorm2d-17           [-1, 64, 56, 56]             128\n",
      "             ReLU-18           [-1, 64, 56, 56]               0\n",
      "             ReLU-19           [-1, 64, 56, 56]               0\n",
      "         ResBlock-20           [-1, 64, 56, 56]               0\n",
      "           Conv2d-21          [-1, 128, 28, 28]           8,320\n",
      "      BatchNorm2d-22          [-1, 128, 28, 28]             256\n",
      "           Conv2d-23          [-1, 128, 28, 28]          73,856\n",
      "      BatchNorm2d-24          [-1, 128, 28, 28]             256\n",
      "             ReLU-25          [-1, 128, 28, 28]               0\n",
      "           Conv2d-26          [-1, 128, 28, 28]         147,584\n",
      "      BatchNorm2d-27          [-1, 128, 28, 28]             256\n",
      "             ReLU-28          [-1, 128, 28, 28]               0\n",
      "             ReLU-29          [-1, 128, 28, 28]               0\n",
      "         ResBlock-30          [-1, 128, 28, 28]               0\n",
      "           Conv2d-31          [-1, 128, 28, 28]         147,584\n",
      "      BatchNorm2d-32          [-1, 128, 28, 28]             256\n",
      "             ReLU-33          [-1, 128, 28, 28]               0\n",
      "           Conv2d-34          [-1, 128, 28, 28]         147,584\n",
      "      BatchNorm2d-35          [-1, 128, 28, 28]             256\n",
      "             ReLU-36          [-1, 128, 28, 28]               0\n",
      "             ReLU-37          [-1, 128, 28, 28]               0\n",
      "         ResBlock-38          [-1, 128, 28, 28]               0\n",
      "           Conv2d-39          [-1, 256, 14, 14]          33,024\n",
      "      BatchNorm2d-40          [-1, 256, 14, 14]             512\n",
      "           Conv2d-41          [-1, 256, 14, 14]         295,168\n",
      "      BatchNorm2d-42          [-1, 256, 14, 14]             512\n",
      "             ReLU-43          [-1, 256, 14, 14]               0\n",
      "           Conv2d-44          [-1, 256, 14, 14]         590,080\n",
      "      BatchNorm2d-45          [-1, 256, 14, 14]             512\n",
      "             ReLU-46          [-1, 256, 14, 14]               0\n",
      "             ReLU-47          [-1, 256, 14, 14]               0\n",
      "         ResBlock-48          [-1, 256, 14, 14]               0\n",
      "           Conv2d-49          [-1, 256, 14, 14]         590,080\n",
      "      BatchNorm2d-50          [-1, 256, 14, 14]             512\n",
      "             ReLU-51          [-1, 256, 14, 14]               0\n",
      "           Conv2d-52          [-1, 256, 14, 14]         590,080\n",
      "      BatchNorm2d-53          [-1, 256, 14, 14]             512\n",
      "             ReLU-54          [-1, 256, 14, 14]               0\n",
      "             ReLU-55          [-1, 256, 14, 14]               0\n",
      "         ResBlock-56          [-1, 256, 14, 14]               0\n",
      "           Conv2d-57            [-1, 512, 7, 7]         131,584\n",
      "      BatchNorm2d-58            [-1, 512, 7, 7]           1,024\n",
      "           Conv2d-59            [-1, 512, 7, 7]       1,180,160\n",
      "      BatchNorm2d-60            [-1, 512, 7, 7]           1,024\n",
      "             ReLU-61            [-1, 512, 7, 7]               0\n",
      "           Conv2d-62            [-1, 512, 7, 7]       2,359,808\n",
      "      BatchNorm2d-63            [-1, 512, 7, 7]           1,024\n",
      "             ReLU-64            [-1, 512, 7, 7]               0\n",
      "             ReLU-65            [-1, 512, 7, 7]               0\n",
      "         ResBlock-66            [-1, 512, 7, 7]               0\n",
      "           Conv2d-67            [-1, 512, 7, 7]       2,359,808\n",
      "      BatchNorm2d-68            [-1, 512, 7, 7]           1,024\n",
      "             ReLU-69            [-1, 512, 7, 7]               0\n",
      "           Conv2d-70            [-1, 512, 7, 7]       2,359,808\n",
      "      BatchNorm2d-71            [-1, 512, 7, 7]           1,024\n",
      "             ReLU-72            [-1, 512, 7, 7]               0\n",
      "             ReLU-73            [-1, 512, 7, 7]               0\n",
      "         ResBlock-74            [-1, 512, 7, 7]               0\n",
      "AdaptiveAvgPool2d-75            [-1, 512, 1, 1]               0\n",
      "          Flatten-76                  [-1, 512]               0\n",
      "           Linear-77                   [-1, 10]           5,130\n",
      "================================================================\n",
      "Total params: 11,186,442\n",
      "Trainable params: 11,186,442\n",
      "Non-trainable params: 0\n",
      "----------------------------------------------------------------\n",
      "Input size (MB): 0.57\n",
      "Forward/backward pass size (MB): 68.53\n",
      "Params size (MB): 42.67\n",
      "Estimated Total Size (MB): 111.78\n",
      "----------------------------------------------------------------\n"
     ]
    }
   ],
   "source": [
    "summary(resnet,(3,224,224))"
   ],
   "metadata": {
    "collapsed": false
   }
  },
  {
   "cell_type": "code",
   "execution_count": null,
   "outputs": [],
   "source": [],
   "metadata": {
    "collapsed": false
   }
  }
 ],
 "metadata": {
  "kernelspec": {
   "display_name": "Python 3",
   "language": "python",
   "name": "python3"
  },
  "language_info": {
   "codemirror_mode": {
    "name": "ipython",
    "version": 2
   },
   "file_extension": ".py",
   "mimetype": "text/x-python",
   "name": "python",
   "nbconvert_exporter": "python",
   "pygments_lexer": "ipython2",
   "version": "2.7.6"
  }
 },
 "nbformat": 4,
 "nbformat_minor": 0
}
